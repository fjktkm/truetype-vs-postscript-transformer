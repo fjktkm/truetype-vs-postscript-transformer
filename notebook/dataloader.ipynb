{
 "cells": [
  {
   "cell_type": "code",
   "execution_count": null,
   "metadata": {},
   "outputs": [],
   "source": [
    "\"\"\"Test code for torchfont module.\"\"\"\n",
    "\n",
    "from fontTools.ttLib import TTFont\n",
    "\n",
    "from truetype_vs_postscript_transformer.torchfont.transforms import (\n",
    "    Compose,\n",
    "    DecomposeSegment,\n",
    "    NormalizeSegment,\n",
    "    PostScriptSegmentToTensor,\n",
    "    QuadToCubic,\n",
    ")\n",
    "\n",
    "src_font_path = \"../fonts/ofl/abeezee/ABeeZee-Regular.ttf\"\n",
    "target_font_path = \"../fonts/ofl/zillaslab/ZillaSlab-Regular.ttf\"\n",
    "\n",
    "src_font = TTFont(file=src_font_path)\n",
    "target_font = TTFont(file=target_font_path)\n",
    "\n",
    "transforms = Compose(\n",
    "    [\n",
    "        DecomposeSegment(),\n",
    "        NormalizeSegment(),\n",
    "        QuadToCubic(),\n",
    "        PostScriptSegmentToTensor(\"trajectory\"),\n",
    "    ],\n",
    ")\n",
    "\n",
    "transforms\n"
   ]
  },
  {
   "cell_type": "code",
   "execution_count": 2,
   "metadata": {},
   "outputs": [],
   "source": [
    "from truetype_vs_postscript_transformer.torchfont.datasets.font_pair import (\n",
    "    FontPairDataset,\n",
    ")\n",
    "\n",
    "dataset = FontPairDataset(\n",
    "    src_font=src_font,\n",
    "    target_font=target_font,\n",
    "    transform=transforms,\n",
    ")"
   ]
  },
  {
   "cell_type": "code",
   "execution_count": 3,
   "metadata": {},
   "outputs": [],
   "source": [
    "from torch.utils.data import DataLoader\n",
    "\n",
    "from truetype_vs_postscript_transformer.modules.collate_fn import (\n",
    "    FontPairPostScriptCollate,\n",
    ")\n",
    "\n",
    "dataloader = DataLoader(\n",
    "    dataset,\n",
    "    batch_size=16,\n",
    "    collate_fn=FontPairPostScriptCollate(),\n",
    ")\n"
   ]
  },
  {
   "cell_type": "code",
   "execution_count": null,
   "metadata": {},
   "outputs": [],
   "source": [
    "for batch in dataloader:\n",
    "    print(batch)\n",
    "    break\n"
   ]
  },
  {
   "cell_type": "code",
   "execution_count": null,
   "metadata": {},
   "outputs": [],
   "source": [
    "from truetype_vs_postscript_transformer.torchfont.transforms import (\n",
    "    ContourPointToTensor,\n",
    "    NormalizeContourPoint,\n",
    "    ToContourPoint,\n",
    ")\n",
    "\n",
    "transforms = Compose(\n",
    "    [\n",
    "        ToContourPoint(),\n",
    "        NormalizeContourPoint(),\n",
    "        ContourPointToTensor(),\n",
    "    ],\n",
    ")\n",
    "\n",
    "transforms"
   ]
  },
  {
   "cell_type": "code",
   "execution_count": 6,
   "metadata": {},
   "outputs": [],
   "source": [
    "dataset = FontPairDataset(\n",
    "    src_font=src_font,\n",
    "    target_font=target_font,\n",
    "    outline_mode=\"point\",\n",
    "    transform=transforms,\n",
    ")\n"
   ]
  },
  {
   "cell_type": "code",
   "execution_count": 7,
   "metadata": {},
   "outputs": [],
   "source": [
    "from truetype_vs_postscript_transformer.modules.collate_fn import (\n",
    "    FontPairTrueTypeCollate,\n",
    ")\n",
    "\n",
    "dataloader = DataLoader(\n",
    "    dataset,\n",
    "    batch_size=16,\n",
    "    collate_fn=FontPairTrueTypeCollate(),\n",
    ")"
   ]
  },
  {
   "cell_type": "code",
   "execution_count": null,
   "metadata": {},
   "outputs": [],
   "source": [
    "for batch in dataloader:\n",
    "    print(batch)\n",
    "    break\n"
   ]
  }
 ],
 "metadata": {
  "kernelspec": {
   "display_name": ".venv",
   "language": "python",
   "name": "python3"
  },
  "language_info": {
   "codemirror_mode": {
    "name": "ipython",
    "version": 3
   },
   "file_extension": ".py",
   "mimetype": "text/x-python",
   "name": "python",
   "nbconvert_exporter": "python",
   "pygments_lexer": "ipython3",
   "version": "3.12.8"
  }
 },
 "nbformat": 4,
 "nbformat_minor": 2
}
