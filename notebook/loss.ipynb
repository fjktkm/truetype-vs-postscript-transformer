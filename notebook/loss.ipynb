{
    "cells": [
        {
            "cell_type": "code",
            "execution_count": null,
            "metadata": {},
            "outputs": [],
            "source": [
                "\"\"\"Test code for torchfont module.\"\"\"\n",
                "\n",
                "from fontTools.ttLib import TTFont\n",
                "\n",
                "from truetype_vs_postscript_transformer.torchfont.transforms import (\n",
                "    Compose,\n",
                "    DecomposeSegment,\n",
                "    NormalizeSegment,\n",
                "    PostScriptSegmentToTensor,\n",
                "    QuadToCubic,\n",
                ")\n",
                "\n",
                "font_path = \"../fonts/ofl/abeezee/ABeeZee-Regular.ttf\"\n",
                "\n",
                "font = TTFont(file=font_path)\n",
                "\n",
                "transforms = Compose(\n",
                "    [\n",
                "        DecomposeSegment(),\n",
                "        NormalizeSegment(),\n",
                "        QuadToCubic(),\n",
                "        PostScriptSegmentToTensor(\"trajectory\"),\n",
                "    ],\n",
                ")\n",
                "\n",
                "transforms\n"
            ]
        },
        {
            "cell_type": "code",
            "execution_count": 2,
            "metadata": {},
            "outputs": [],
            "source": [
                "from truetype_vs_postscript_transformer.torchfont.datasets.font_pair import (\n",
                "    FontPairDataset,\n",
                ")\n",
                "\n",
                "dataset = FontPairDataset(\n",
                "    src_font=font,\n",
                "    target_font=font,\n",
                "    transform=transforms,\n",
                ")\n"
            ]
        },
        {
            "cell_type": "code",
            "execution_count": 3,
            "metadata": {},
            "outputs": [],
            "source": [
                "from torch.utils.data import DataLoader\n",
                "\n",
                "from truetype_vs_postscript_transformer.modules.collate_fn import (\n",
                "    FontPairPostScriptCollate,\n",
                ")\n",
                "\n",
                "dataloader = DataLoader(\n",
                "    dataset,\n",
                "    batch_size=16,\n",
                "    collate_fn=FontPairPostScriptCollate(),\n",
                ")\n"
            ]
        },
        {
            "cell_type": "code",
            "execution_count": null,
            "metadata": {},
            "outputs": [],
            "source": [
                "import torch\n",
                "\n",
                "from truetype_vs_postscript_transformer.modules.loss import ReconstructionLoss\n",
                "from truetype_vs_postscript_transformer.torchfont.io.font import (\n",
                "    POSTSCRIPT_COMMAND_TYPE_TO_NUM,\n",
                ")\n",
                "\n",
                "for batch in dataloader:\n",
                "    src, _ = batch\n",
                "    src_cmd, src_coords = src\n",
                "\n",
                "    batch_size, seq_len = src_cmd.shape\n",
                "    src_cmd_logits = torch.zeros(\n",
                "        (batch_size, seq_len, len(POSTSCRIPT_COMMAND_TYPE_TO_NUM)),\n",
                "        device=src_cmd.device,\n",
                "    )\n",
                "    src_cmd_logits.scatter_(\n",
                "        -1,\n",
                "        src_cmd.unsqueeze(-1),\n",
                "        100.0,\n",
                "    )\n",
                "\n",
                "    pred = (\n",
                "        src_cmd_logits,\n",
                "        src_coords,\n",
                "    )\n",
                "\n",
                "    loss_fn = ReconstructionLoss(ce_weight=0, mse_weight=0, chamfer_weight=1)\n",
                "\n",
                "    loss_value = loss_fn(pred, src)\n",
                "\n",
                "    print(\"Loss:\", loss_value.item())\n"
            ]
        }
    ],
    "metadata": {
        "kernelspec": {
            "display_name": ".venv",
            "language": "python",
            "name": "python3"
        },
        "language_info": {
            "codemirror_mode": {
                "name": "ipython",
                "version": 3
            },
            "file_extension": ".py",
            "mimetype": "text/x-python",
            "name": "python",
            "nbconvert_exporter": "python",
            "pygments_lexer": "ipython3",
            "version": "3.12.8"
        }
    },
    "nbformat": 4,
    "nbformat_minor": 2
}
