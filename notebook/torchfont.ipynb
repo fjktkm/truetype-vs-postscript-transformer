{
    "cells": [
        {
            "cell_type": "code",
            "execution_count": null,
            "metadata": {},
            "outputs": [],
            "source": [
                "\"\"\"Test code for torchfont module.\"\"\"\n",
                "\n",
                "from fontTools.ttLib import TTFont\n",
                "\n",
                "from truetype_vs_postscript_transformer.torchfont.transforms import (\n",
                "    Compose,\n",
                "    DecomposeSegment,\n",
                "    NormalizeSegment,\n",
                "    PostScriptSegmentToTensor,\n",
                "    QuadToCubic,\n",
                "    TensorToSegment,\n",
                ")\n",
                "\n",
                "src_font_path = \"../fonts/ofl/abeezee/ABeeZee-Regular.ttf\"\n",
                "target_font_path = \"../fonts/ofl/zillaslab/ZillaSlab-Regular.ttf\"\n",
                "\n",
                "src_font = TTFont(file=src_font_path)\n",
                "target_font = TTFont(file=target_font_path)\n",
                "\n",
                "transforms = Compose(\n",
                "    [\n",
                "        DecomposeSegment(),\n",
                "        NormalizeSegment(),\n",
                "        QuadToCubic(),\n",
                "        PostScriptSegmentToTensor(\"trajectory\"),\n",
                "        TensorToSegment(),\n",
                "    ],\n",
                ")\n",
                "\n",
                "transforms\n"
            ]
        },
        {
            "cell_type": "code",
            "execution_count": 2,
            "metadata": {},
            "outputs": [],
            "source": [
                "from truetype_vs_postscript_transformer.torchfont.datasets.font_pair import (\n",
                "    FontPairDataset,\n",
                ")\n",
                "\n",
                "dataset = FontPairDataset(\n",
                "    src_font=src_font,\n",
                "    target_font=target_font,\n",
                "    transform=transforms,\n",
                ")\n",
                "\n",
                "src_glyph, target_glyph = dataset[45]\n"
            ]
        },
        {
            "cell_type": "code",
            "execution_count": null,
            "metadata": {},
            "outputs": [],
            "source": [
                "src_glyph\n"
            ]
        },
        {
            "cell_type": "code",
            "execution_count": null,
            "metadata": {},
            "outputs": [],
            "source": [
                "target_glyph\n"
            ]
        },
        {
            "cell_type": "code",
            "execution_count": null,
            "metadata": {},
            "outputs": [],
            "source": [
                "from truetype_vs_postscript_transformer.torchfont.datasets.font_pair import (\n",
                "    SingleFontDataset,\n",
                ")\n",
                "from truetype_vs_postscript_transformer.torchfont.transforms import (\n",
                "    NormalizeContourPoint,\n",
                "    ToContourPoint,\n",
                ")\n",
                "\n",
                "transforms = Compose(\n",
                "    [\n",
                "        ToContourPoint(),\n",
                "        NormalizeContourPoint(),\n",
                "    ],\n",
                ")\n",
                "\n",
                "dataset = SingleFontDataset(\n",
                "    font=src_font,\n",
                "    outline_mode=\"point\",\n",
                "    transform=transforms,\n",
                ")\n",
                "\n",
                "_, glyph = dataset[36]\n",
                "\n",
                "glyph\n"
            ]
        },
        {
            "cell_type": "code",
            "execution_count": null,
            "metadata": {},
            "outputs": [],
            "source": [
                "from truetype_vs_postscript_transformer.torchfont.datasets.font_pair import (\n",
                "    SingleFontDataset,\n",
                ")\n",
                "from truetype_vs_postscript_transformer.torchfont.transforms import (\n",
                "    SegmentToContourPoint,\n",
                ")\n",
                "\n",
                "transforms = Compose(\n",
                "    [\n",
                "        DecomposeSegment(),\n",
                "        SegmentToContourPoint(),\n",
                "        NormalizeContourPoint(),\n",
                "    ],\n",
                ")\n",
                "\n",
                "dataset = SingleFontDataset(\n",
                "    font=src_font,\n",
                "    outline_mode=\"segment\",\n",
                "    transform=transforms,\n",
                ")\n",
                "\n",
                "_, glyph = dataset[36]\n",
                "\n",
                "glyph\n"
            ]
        },
        {
            "cell_type": "code",
            "execution_count": null,
            "metadata": {},
            "outputs": [],
            "source": [
                "from truetype_vs_postscript_transformer.torchfont.datasets.font_pair import (\n",
                "    SingleFontDataset,\n",
                ")\n",
                "from truetype_vs_postscript_transformer.torchfont.transforms import (\n",
                "    SegmentToContourPoint,\n",
                "    TrueTypeSegmentToTensor,\n",
                ")\n",
                "\n",
                "transforms = Compose(\n",
                "    [\n",
                "        DecomposeSegment(),\n",
                "        NormalizeSegment(),\n",
                "        TrueTypeSegmentToTensor(\"zeros\"),\n",
                "    ],\n",
                ")\n",
                "\n",
                "dataset = SingleFontDataset(\n",
                "    font=src_font,\n",
                "    outline_mode=\"segment\",\n",
                "    transform=transforms,\n",
                ")\n",
                "\n",
                "_, glyph = dataset[36]\n",
                "\n",
                "glyph\n"
            ]
        }
    ],
    "metadata": {
        "kernelspec": {
            "display_name": ".venv",
            "language": "python",
            "name": "python3"
        },
        "language_info": {
            "codemirror_mode": {
                "name": "ipython",
                "version": 3
            },
            "file_extension": ".py",
            "mimetype": "text/x-python",
            "name": "python",
            "nbconvert_exporter": "python",
            "pygments_lexer": "ipython3",
            "version": "3.12.8"
        }
    },
    "nbformat": 4,
    "nbformat_minor": 2
}
