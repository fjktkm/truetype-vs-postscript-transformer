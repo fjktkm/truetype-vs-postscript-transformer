{
    "cells": [
        {
            "cell_type": "code",
            "execution_count": 1,
            "metadata": {},
            "outputs": [],
            "source": [
                "from fontTools.ttLib import TTFont\n",
                "\n",
                "from truetype_vs_postscript_transformer.torchfont.datasets.font_pair import (\n",
                "    FontPairDataset,\n",
                ")\n",
                "from truetype_vs_postscript_transformer.torchfont.transforms import (\n",
                "    Compose,\n",
                "    DecomposeSegment,\n",
                "    NormalizeSegment,\n",
                "    PostScriptSegmentToTensor,\n",
                "    QuadToCubic,\n",
                ")\n",
                "from truetype_vs_postscript_transformer.torchfont.utils.visualizer import (\n",
                "    save_glyph_plot,\n",
                ")\n",
                "\n",
                "src_font_path = \"../fonts/ofl/mplus1p/MPLUS1p-Regular.ttf\"\n",
                "target_font_path = \"../fonts/ofl/mplus1p/MPLUS1p-Regular.ttf\"\n",
                "\n",
                "src_font = TTFont(file=src_font_path)\n",
                "target_font = TTFont(file=target_font_path)\n"
            ]
        },
        {
            "cell_type": "code",
            "execution_count": null,
            "metadata": {},
            "outputs": [],
            "source": [
                "dataset = FontPairDataset(\n",
                "    src_font=src_font,\n",
                "    target_font=target_font,\n",
                "    transform=None,\n",
                ")\n",
                "data = dataset[17]\n",
                "src, target = data\n",
                "src"
            ]
        },
        {
            "cell_type": "code",
            "execution_count": 3,
            "metadata": {},
            "outputs": [],
            "source": [
                "transforms = Compose(\n",
                "    [\n",
                "        DecomposeSegment(),\n",
                "        NormalizeSegment(),\n",
                "        QuadToCubic(),\n",
                "        PostScriptSegmentToTensor(\"trajectory\"),\n",
                "    ],\n",
                ")\n",
                "\n",
                "dataset = FontPairDataset(\n",
                "    src_font=src_font,\n",
                "    target_font=target_font,\n",
                "    transform=transforms,\n",
                ")\n",
                "\n",
                "data = dataset[17]\n",
                "src, target = data\n",
                "\n",
                "save_glyph_plot(src, \"output\", \"data_17.svg\")\n"
            ]
        }
    ],
    "metadata": {
        "kernelspec": {
            "display_name": ".venv",
            "language": "python",
            "name": "python3"
        },
        "language_info": {
            "codemirror_mode": {
                "name": "ipython",
                "version": 3
            },
            "file_extension": ".py",
            "mimetype": "text/x-python",
            "name": "python",
            "nbconvert_exporter": "python",
            "pygments_lexer": "ipython3",
            "version": "3.12.8"
        }
    },
    "nbformat": 4,
    "nbformat_minor": 2
}
