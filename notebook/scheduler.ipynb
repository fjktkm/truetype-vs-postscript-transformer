{
    "cells": [
        {
            "cell_type": "code",
            "execution_count": 1,
            "metadata": {},
            "outputs": [],
            "source": [
                "import matplotlib.pyplot as plt\n",
                "import torch\n",
                "from torch.nn import Parameter\n",
                "from torch.optim import Adam\n",
                "\n",
                "from truetype_vs_postscript_transformer.modules.scheduler import WarmupDecayLR\n",
                "\n",
                "\n",
                "def plot_scheduler(warmup_steps: int, total_steps: int, base_lr: float) -> None:\n",
                "    \"\"\"Plot the learning rate schedule with warmup and decay.\"\"\"\n",
                "    model_params = [Parameter(torch.randn(2, 2, requires_grad=True))]\n",
                "    optimizer = Adam(model_params, lr=base_lr)\n",
                "    scheduler = WarmupDecayLR(optimizer, warmup_steps)\n",
                "\n",
                "    lrs = []\n",
                "    for _ in range(1, total_steps + 1):\n",
                "        optimizer.step()\n",
                "        scheduler.step()\n",
                "        lrs.append(scheduler.get_last_lr()[0])\n",
                "\n",
                "    plt.figure(figsize=(8, 5))\n",
                "    plt.plot(range(1, total_steps + 1), lrs, label=\"Learning Rate\")\n",
                "    plt.axvline(x=warmup_steps, color=\"r\", linestyle=\"--\", label=\"Warmup End\")\n",
                "    plt.title(\"Learning Rate Schedule with Warmup and Decay\")\n",
                "    plt.xlabel(\"Steps\")\n",
                "    plt.ylabel(\"Learning Rate\")\n",
                "    plt.legend()\n",
                "    plt.grid(visible=True)\n",
                "    plt.show()\n"
            ]
        },
        {
            "cell_type": "code",
            "execution_count": null,
            "metadata": {},
            "outputs": [],
            "source": [
                "plot_scheduler(warmup_steps=100, total_steps=1500, base_lr=0.001)\n"
            ]
        }
    ],
    "metadata": {
        "kernelspec": {
            "display_name": ".venv",
            "language": "python",
            "name": "python3"
        },
        "language_info": {
            "codemirror_mode": {
                "name": "ipython",
                "version": 3
            },
            "file_extension": ".py",
            "mimetype": "text/x-python",
            "name": "python",
            "nbconvert_exporter": "python",
            "pygments_lexer": "ipython3",
            "version": "3.12.8"
        }
    },
    "nbformat": 4,
    "nbformat_minor": 2
}
